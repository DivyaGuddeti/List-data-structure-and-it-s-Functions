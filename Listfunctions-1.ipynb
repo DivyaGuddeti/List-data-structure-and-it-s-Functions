{
 "cells": [
  {
   "cell_type": "markdown",
   "id": "c356b0f0-f2e5-4123-8bb0-aa8c1ccf9ecc",
   "metadata": {},
   "source": [
    "# 22nd April - List datastructure and it's Functions"
   ]
  },
  {
   "cell_type": "code",
   "execution_count": 1,
   "id": "bf25c3ea-bbf5-48ca-ac6c-5c02ef0d59fd",
   "metadata": {},
   "outputs": [
    {
     "name": "stdout",
     "output_type": "stream",
     "text": [
      "[]\n"
     ]
    }
   ],
   "source": [
    "l = [] #creates an empty List\n",
    "\n",
    "print(l)"
   ]
  },
  {
   "cell_type": "code",
   "execution_count": 2,
   "id": "15c799e7-a32d-4689-9f94-e89636ac7f84",
   "metadata": {},
   "outputs": [],
   "source": [
    "l.append(10) #adds element to the end of the list"
   ]
  },
  {
   "cell_type": "code",
   "execution_count": 3,
   "id": "af918bfd-88f5-4754-99c0-785f60297402",
   "metadata": {},
   "outputs": [
    {
     "data": {
      "text/plain": [
       "[10]"
      ]
     },
     "execution_count": 3,
     "metadata": {},
     "output_type": "execute_result"
    }
   ],
   "source": [
    "l"
   ]
  },
  {
   "cell_type": "code",
   "execution_count": 4,
   "id": "7f8630a4-88b4-416a-93b9-455165ed2eee",
   "metadata": {},
   "outputs": [
    {
     "ename": "TypeError",
     "evalue": "list.append() takes exactly one argument (3 given)",
     "output_type": "error",
     "traceback": [
      "\u001b[1;31m---------------------------------------------------------------------------\u001b[0m",
      "\u001b[1;31mTypeError\u001b[0m                                 Traceback (most recent call last)",
      "Cell \u001b[1;32mIn[4], line 1\u001b[0m\n\u001b[1;32m----> 1\u001b[0m l\u001b[38;5;241m.\u001b[39mappend(\u001b[38;5;241m1\u001b[39m,\u001b[38;5;241m2\u001b[39m,\u001b[38;5;241m4\u001b[39m)\n",
      "\u001b[1;31mTypeError\u001b[0m: list.append() takes exactly one argument (3 given)"
     ]
    }
   ],
   "source": [
    "l.append(1,2,4) #invalid as List allows only one argument at a time"
   ]
  },
  {
   "cell_type": "code",
   "execution_count": 5,
   "id": "b13282ae-639b-45c2-aaee-34da3c5c1b49",
   "metadata": {},
   "outputs": [
    {
     "data": {
      "text/plain": [
       "[10]"
      ]
     },
     "execution_count": 5,
     "metadata": {},
     "output_type": "execute_result"
    }
   ],
   "source": [
    "l"
   ]
  },
  {
   "cell_type": "code",
   "execution_count": 6,
   "id": "23197be6-0429-4196-9546-1d6d0a04c06e",
   "metadata": {},
   "outputs": [
    {
     "name": "stdout",
     "output_type": "stream",
     "text": [
      "[10, 20, 3.5, 'SaiDivya', True, (1+5j)]\n"
     ]
    }
   ],
   "source": [
    "l.append(20)\n",
    "l.append(3.5)\n",
    "l.append(\"SaiDivya\")\n",
    "l.append(True)\n",
    "l.append(1+5j)\n",
    "\n",
    "print(l)"
   ]
  },
  {
   "cell_type": "code",
   "execution_count": 7,
   "id": "0289c4a9-a50f-403c-a6a5-1c7bccd3d089",
   "metadata": {},
   "outputs": [
    {
     "name": "stdout",
     "output_type": "stream",
     "text": [
      "[10, 20, 3.5, 'SaiDivya', True, (1+5j)]\n",
      "[10, 20, 3.5, 'SaiDivya', True, (1+5j)]\n"
     ]
    }
   ],
   "source": [
    "l1 = l.copy() # copies the elements from one list to another\n",
    "\n",
    "print(l)\n",
    "print(l1)"
   ]
  },
  {
   "cell_type": "code",
   "execution_count": 8,
   "id": "7e838897-23e5-4206-8be1-1127fccd587b",
   "metadata": {},
   "outputs": [
    {
     "data": {
      "text/plain": [
       "True"
      ]
     },
     "execution_count": 8,
     "metadata": {},
     "output_type": "execute_result"
    }
   ],
   "source": [
    "l1 == l"
   ]
  },
  {
   "cell_type": "code",
   "execution_count": 9,
   "id": "961e50a5-42d8-43ed-9626-658ae447494b",
   "metadata": {},
   "outputs": [],
   "source": [
    "l.clear() #clears the whole list"
   ]
  },
  {
   "cell_type": "code",
   "execution_count": 10,
   "id": "6d24c041-04f6-42f0-8a63-1934346846d7",
   "metadata": {},
   "outputs": [
    {
     "name": "stdout",
     "output_type": "stream",
     "text": [
      "[]\n"
     ]
    }
   ],
   "source": [
    "print(l)"
   ]
  },
  {
   "cell_type": "code",
   "execution_count": 11,
   "id": "1122d00b-1fcb-484b-b34d-4ed9624591bf",
   "metadata": {},
   "outputs": [],
   "source": [
    "del l # deletes the list"
   ]
  },
  {
   "cell_type": "code",
   "execution_count": 12,
   "id": "6761eb1f-6f4c-4a5d-9e05-ca4366e70da4",
   "metadata": {},
   "outputs": [
    {
     "ename": "NameError",
     "evalue": "name 'l' is not defined",
     "output_type": "error",
     "traceback": [
      "\u001b[1;31m---------------------------------------------------------------------------\u001b[0m",
      "\u001b[1;31mNameError\u001b[0m                                 Traceback (most recent call last)",
      "Cell \u001b[1;32mIn[12], line 1\u001b[0m\n\u001b[1;32m----> 1\u001b[0m l\n",
      "\u001b[1;31mNameError\u001b[0m: name 'l' is not defined"
     ]
    }
   ],
   "source": [
    "l #invalid as we've deleted the list"
   ]
  },
  {
   "cell_type": "code",
   "execution_count": 13,
   "id": "92dc1756-b53f-402e-91b4-b42fc73fcb1c",
   "metadata": {},
   "outputs": [],
   "source": [
    "l = l1.copy()"
   ]
  },
  {
   "cell_type": "code",
   "execution_count": 14,
   "id": "be7bb5b1-4b94-4e5f-b34c-3712459625e6",
   "metadata": {},
   "outputs": [
    {
     "data": {
      "text/plain": [
       "[10, 20, 3.5, 'SaiDivya', True, (1+5j)]"
      ]
     },
     "execution_count": 14,
     "metadata": {},
     "output_type": "execute_result"
    }
   ],
   "source": [
    "l"
   ]
  },
  {
   "cell_type": "code",
   "execution_count": 15,
   "id": "40d090cc-3c43-4a93-9690-e39df6851e20",
   "metadata": {},
   "outputs": [
    {
     "data": {
      "text/plain": [
       "2"
      ]
     },
     "execution_count": 15,
     "metadata": {},
     "output_type": "execute_result"
    }
   ],
   "source": [
    "l.index(3.5) # returns the index of the 1st occurance of the specified element in the List"
   ]
  },
  {
   "cell_type": "code",
   "execution_count": 16,
   "id": "78d76bc8-e47a-493f-9228-a121d718318d",
   "metadata": {},
   "outputs": [
    {
     "name": "stdout",
     "output_type": "stream",
     "text": [
      "[10, 20, 3.5, 'SaiDivya', 40, True, (1+5j)]\n"
     ]
    }
   ],
   "source": [
    "l.insert(4,40) #inserts the value/element at specified index --> 40 is inserted at index 4\n",
    "\n",
    "print(l)"
   ]
  },
  {
   "cell_type": "code",
   "execution_count": 17,
   "id": "e19c6b2d-28a8-439c-b778-d71c3cd9044d",
   "metadata": {},
   "outputs": [
    {
     "name": "stdout",
     "output_type": "stream",
     "text": [
      "[10, 20, 3.5, 'SaiDivya', 40, True, (1+5j), 10]\n"
     ]
    }
   ],
   "source": [
    "l.append(10)\n",
    "\n",
    "print(l)"
   ]
  },
  {
   "cell_type": "code",
   "execution_count": 18,
   "id": "9423e5a9-89cd-47a5-921b-c67ccce6551d",
   "metadata": {},
   "outputs": [
    {
     "data": {
      "text/plain": [
       "2"
      ]
     },
     "execution_count": 18,
     "metadata": {},
     "output_type": "execute_result"
    }
   ],
   "source": [
    "l.count(10) #returns the number of occurances of the specified element"
   ]
  },
  {
   "cell_type": "code",
   "execution_count": 19,
   "id": "c037c122-fb0e-4a82-9a9e-4b946aec4e41",
   "metadata": {},
   "outputs": [
    {
     "data": {
      "text/plain": [
       "0"
      ]
     },
     "execution_count": 19,
     "metadata": {},
     "output_type": "execute_result"
    }
   ],
   "source": [
    "l.count(15)"
   ]
  },
  {
   "cell_type": "code",
   "execution_count": 20,
   "id": "2cdc5806-4ac3-4101-a9ed-5e385b42206b",
   "metadata": {},
   "outputs": [
    {
     "name": "stdout",
     "output_type": "stream",
     "text": [
      "[10, 20, 3.5, 'SaiDivya', 40, True, (1+5j), 10]\n",
      "[10, 20, 3.5, 'SaiDivya', 40, True, (1+5j), 10]\n"
     ]
    }
   ],
   "source": [
    "l4 = l.copy()\n",
    "\n",
    "print(l)\n",
    "print(l4)"
   ]
  },
  {
   "cell_type": "code",
   "execution_count": 21,
   "id": "f00df6c9-1445-420c-b9f2-7b8900a27c89",
   "metadata": {},
   "outputs": [
    {
     "data": {
      "text/plain": [
       "True"
      ]
     },
     "execution_count": 21,
     "metadata": {},
     "output_type": "execute_result"
    }
   ],
   "source": [
    "l == l4"
   ]
  },
  {
   "cell_type": "code",
   "execution_count": 22,
   "id": "d03f05cd-6479-4b3a-b30a-a67ab786fa21",
   "metadata": {},
   "outputs": [
    {
     "name": "stdout",
     "output_type": "stream",
     "text": [
      "[10, 20, 3.5, 'SaiDivya', 40, True, (1+5j), 10, 10, 20, 3.5, 'SaiDivya', 40, True, (1+5j), 10]\n"
     ]
    }
   ],
   "source": [
    "l4.extend(l) # concatenates the elements of l to the end of l4 list\n",
    "\n",
    "print(l4)"
   ]
  },
  {
   "cell_type": "code",
   "execution_count": 23,
   "id": "9028ffc8-67dd-4bfe-bde4-983b8b816765",
   "metadata": {},
   "outputs": [
    {
     "data": {
      "text/plain": [
       "3.5"
      ]
     },
     "execution_count": 23,
     "metadata": {},
     "output_type": "execute_result"
    }
   ],
   "source": [
    "l4.pop(10) #deletes the element at index 10 and prints the deleted item"
   ]
  },
  {
   "cell_type": "code",
   "execution_count": 24,
   "id": "92488181-8423-434b-acec-8272da8de76d",
   "metadata": {},
   "outputs": [
    {
     "data": {
      "text/plain": [
       "10"
      ]
     },
     "execution_count": 24,
     "metadata": {},
     "output_type": "execute_result"
    }
   ],
   "source": [
    "l4.pop() #by default it will take -1 as argument value and deletes the last element of the List"
   ]
  },
  {
   "cell_type": "code",
   "execution_count": 25,
   "id": "bcc1afe8-9dbe-4186-ab56-47c0f3eb667a",
   "metadata": {},
   "outputs": [
    {
     "name": "stdout",
     "output_type": "stream",
     "text": [
      "[10, 20, 3.5, 'SaiDivya', 40, (1+5j), 10, 10, 20, 'SaiDivya', 40, True, (1+5j)]\n"
     ]
    }
   ],
   "source": [
    "l4.remove(True) #deletes the 1st occurance of the specified element from the list\n",
    "\n",
    "print(l4)"
   ]
  },
  {
   "cell_type": "code",
   "execution_count": 26,
   "id": "bf6c7e55-429c-46e3-ae74-3f584c236016",
   "metadata": {},
   "outputs": [],
   "source": [
    "# pop() takes index value as argument whereas remove() takes list element as argument"
   ]
  },
  {
   "cell_type": "code",
   "execution_count": 27,
   "id": "914bbb8e-ba55-4550-b1b6-24f1bca91ba5",
   "metadata": {},
   "outputs": [
    {
     "data": {
      "text/plain": [
       "0"
      ]
     },
     "execution_count": 27,
     "metadata": {},
     "output_type": "execute_result"
    }
   ],
   "source": [
    "l4.count(\"SaiDivy\")"
   ]
  },
  {
   "cell_type": "code",
   "execution_count": 28,
   "id": "3aaea127-780e-469c-834c-f90d982ac31c",
   "metadata": {},
   "outputs": [
    {
     "data": {
      "text/plain": [
       "3"
      ]
     },
     "execution_count": 28,
     "metadata": {},
     "output_type": "execute_result"
    }
   ],
   "source": [
    "l4.index(\"SaiDivya\") #returns the 1st occurance index"
   ]
  },
  {
   "cell_type": "code",
   "execution_count": 31,
   "id": "1a2402fd-7a9a-4819-abba-f744ff20ff5f",
   "metadata": {},
   "outputs": [
    {
     "name": "stdout",
     "output_type": "stream",
     "text": [
      "[(1+5j), True, 40, 'SaiDivya', 20, 10, 10, (1+5j), 40, 'SaiDivya', 3.5, 20, 10]\n"
     ]
    }
   ],
   "source": [
    "l4.reverse() #reverse the list elements from right to left\n",
    "\n",
    "print(l4)"
   ]
  },
  {
   "cell_type": "code",
   "execution_count": 32,
   "id": "be0b9922-ffa5-49ac-b3a1-943d365f01d6",
   "metadata": {},
   "outputs": [
    {
     "ename": "TypeError",
     "evalue": "'<' not supported between instances of 'bool' and 'complex'",
     "output_type": "error",
     "traceback": [
      "\u001b[1;31m---------------------------------------------------------------------------\u001b[0m",
      "\u001b[1;31mTypeError\u001b[0m                                 Traceback (most recent call last)",
      "Cell \u001b[1;32mIn[32], line 1\u001b[0m\n\u001b[1;32m----> 1\u001b[0m l4\u001b[38;5;241m.\u001b[39msort() \u001b[38;5;66;03m#sort the list elements in ascending order\u001b[39;00m\n\u001b[0;32m      3\u001b[0m \u001b[38;5;28mprint\u001b[39m(l4)\n",
      "\u001b[1;31mTypeError\u001b[0m: '<' not supported between instances of 'bool' and 'complex'"
     ]
    }
   ],
   "source": [
    "l4.sort() #sort the list elements in ascending order\n",
    "\n",
    "print(l4)"
   ]
  },
  {
   "cell_type": "code",
   "execution_count": null,
   "id": "003b5c9a-9efe-41c9-9ff6-4526337eb24c",
   "metadata": {},
   "outputs": [],
   "source": [
    "#above code is invalid as we've bool and complex values in our list and we can't compare them to sort"
   ]
  },
  {
   "cell_type": "code",
   "execution_count": 33,
   "id": "ca9614ac-5ab0-4c0c-b2c6-8d7bb9641637",
   "metadata": {},
   "outputs": [],
   "source": [
    "l4.remove(True)"
   ]
  },
  {
   "cell_type": "code",
   "execution_count": 34,
   "id": "9fc26db7-a34a-484e-9c79-6f9c00df0a5d",
   "metadata": {},
   "outputs": [
    {
     "data": {
      "text/plain": [
       "[(1+5j), 40, 'SaiDivya', 20, 10, 10, (1+5j), 40, 'SaiDivya', 3.5, 20, 10]"
      ]
     },
     "execution_count": 34,
     "metadata": {},
     "output_type": "execute_result"
    }
   ],
   "source": [
    "l4"
   ]
  },
  {
   "cell_type": "code",
   "execution_count": 35,
   "id": "1d5890a5-1aec-4659-8401-90c7b26fcebf",
   "metadata": {},
   "outputs": [
    {
     "data": {
      "text/plain": [
       "[10, 20, 3.5, 'SaiDivya', 40, True, (1+5j), 10]"
      ]
     },
     "execution_count": 35,
     "metadata": {},
     "output_type": "execute_result"
    }
   ],
   "source": [
    "l"
   ]
  },
  {
   "cell_type": "code",
   "execution_count": 37,
   "id": "41b8b0b0-e3c0-4210-80e0-ef2d620bdb44",
   "metadata": {},
   "outputs": [],
   "source": [
    "l2 = [4.5, 5, 7, 9, 15, 0, 2, 100, 1]"
   ]
  },
  {
   "cell_type": "code",
   "execution_count": 39,
   "id": "76e4508a-69b4-4367-9de9-ba8ac624ec10",
   "metadata": {},
   "outputs": [
    {
     "name": "stdout",
     "output_type": "stream",
     "text": [
      "[0, 1, 2, 4.5, 5, 7, 9, 15, 100]\n"
     ]
    }
   ],
   "source": [
    "l2.sort() #sort the list elements in ascending order\n",
    "\n",
    "print(l2)"
   ]
  },
  {
   "cell_type": "code",
   "execution_count": 40,
   "id": "45fd9a7d-46e5-4b35-98f1-330f7ff5407c",
   "metadata": {},
   "outputs": [
    {
     "name": "stdout",
     "output_type": "stream",
     "text": [
      "[100, 15, 9, 7, 5, 4.5, 2, 1, 0]\n"
     ]
    }
   ],
   "source": [
    "l2.sort(reverse=True) #sorts the list elements in descending order\n",
    "\n",
    "print(l2)"
   ]
  },
  {
   "cell_type": "code",
   "execution_count": 41,
   "id": "c9f30f90-5238-4280-8c61-4e89d0f925ae",
   "metadata": {},
   "outputs": [
    {
     "data": {
      "text/plain": [
       "['one', 'two', 'three']"
      ]
     },
     "execution_count": 41,
     "metadata": {},
     "output_type": "execute_result"
    }
   ],
   "source": [
    "l8 = [\"one\",\"two\",\"three\"]\n",
    "\n",
    "l8"
   ]
  },
  {
   "cell_type": "code",
   "execution_count": 43,
   "id": "34084142-a28d-4d87-9972-72553d69a897",
   "metadata": {},
   "outputs": [
    {
     "name": "stdout",
     "output_type": "stream",
     "text": [
      "['one', 'three', 'two']\n"
     ]
    }
   ],
   "source": [
    "l8.sort()\n",
    "\n",
    "print(l8)"
   ]
  },
  {
   "cell_type": "code",
   "execution_count": 45,
   "id": "542404e2-c4a0-4218-b670-dd9ee2244c12",
   "metadata": {},
   "outputs": [
    {
     "data": {
      "text/plain": [
       "[]"
      ]
     },
     "execution_count": 45,
     "metadata": {},
     "output_type": "execute_result"
    }
   ],
   "source": [
    "l8.clear\n",
    "\n",
    "l8"
   ]
  },
  {
   "cell_type": "code",
   "execution_count": 46,
   "id": "5ef646e9-3f27-41db-8557-1762deaf65a0",
   "metadata": {},
   "outputs": [
    {
     "data": {
      "text/plain": [
       "['two', 'four', 'one', 'six', 'ten']"
      ]
     },
     "execution_count": 46,
     "metadata": {},
     "output_type": "execute_result"
    }
   ],
   "source": [
    "l8 = [\"two\",\"four\",\"one\",\"six\",\"ten\"]\n",
    "\n",
    "l8"
   ]
  },
  {
   "cell_type": "code",
   "execution_count": 47,
   "id": "fbccfabd-8ece-4873-9971-d731e6ca3faf",
   "metadata": {},
   "outputs": [
    {
     "data": {
      "text/plain": [
       "['four', 'one', 'six', 'ten', 'two']"
      ]
     },
     "execution_count": 47,
     "metadata": {},
     "output_type": "execute_result"
    }
   ],
   "source": [
    "l8.sort() \n",
    "\n",
    "l8"
   ]
  },
  {
   "cell_type": "code",
   "execution_count": 48,
   "id": "4e65e3bf-787e-4d50-98f2-045496aef9d4",
   "metadata": {},
   "outputs": [],
   "source": [
    "#sorts the list elements in alphabetical ascending order"
   ]
  },
  {
   "cell_type": "code",
   "execution_count": 49,
   "id": "2192aed4-e617-43d7-9b29-e214bb9634aa",
   "metadata": {},
   "outputs": [
    {
     "data": {
      "text/plain": [
       "['four', 'one', 'six', 'ten', 'two']"
      ]
     },
     "execution_count": 49,
     "metadata": {},
     "output_type": "execute_result"
    }
   ],
   "source": [
    "l8"
   ]
  },
  {
   "cell_type": "code",
   "execution_count": 50,
   "id": "3c31c8be-ab76-478f-b6e5-240f64f96ca0",
   "metadata": {},
   "outputs": [
    {
     "data": {
      "text/plain": [
       "['two', 'ten', 'six', 'one', 'four']"
      ]
     },
     "execution_count": 50,
     "metadata": {},
     "output_type": "execute_result"
    }
   ],
   "source": [
    "l8.sort(reverse=True)\n",
    "\n",
    "l8"
   ]
  },
  {
   "cell_type": "code",
   "execution_count": 51,
   "id": "a98618e9-c07a-45c5-a2c4-c2511df71008",
   "metadata": {},
   "outputs": [],
   "source": [
    "#sorts the list elements in alphabetical descending order"
   ]
  },
  {
   "cell_type": "code",
   "execution_count": 52,
   "id": "24910cdd-40e7-4695-ab72-7dd371e5d4fa",
   "metadata": {},
   "outputs": [
    {
     "name": "stdout",
     "output_type": "stream",
     "text": [
      "[1, 2.4, False, 'Sai', 'Divya', 18, (1+5j), True, 0]\n"
     ]
    }
   ],
   "source": [
    "List = [1,2.4,False,\"Sai\",\"Divya\",18,1+5j,True,0]\n",
    "\n",
    "print(List)"
   ]
  },
  {
   "cell_type": "code",
   "execution_count": 54,
   "id": "61a52d16-0710-4f94-9dcd-8fbb594e1048",
   "metadata": {},
   "outputs": [
    {
     "data": {
      "text/plain": [
       "False"
      ]
     },
     "execution_count": 54,
     "metadata": {},
     "output_type": "execute_result"
    }
   ],
   "source": [
    "all(List) #returns True only if none of the List values are False"
   ]
  },
  {
   "cell_type": "code",
   "execution_count": 58,
   "id": "20a065ef-0a06-4fe2-9237-4a3bdebfb867",
   "metadata": {},
   "outputs": [
    {
     "data": {
      "text/plain": [
       "True"
      ]
     },
     "execution_count": 58,
     "metadata": {},
     "output_type": "execute_result"
    }
   ],
   "source": [
    "any(List) #returns True if any of the values are True"
   ]
  },
  {
   "cell_type": "code",
   "execution_count": 59,
   "id": "0e8e8fc5-e104-4577-8e7e-b7bdc61f42eb",
   "metadata": {},
   "outputs": [
    {
     "name": "stdout",
     "output_type": "stream",
     "text": [
      "[1, 2.4, False, 'Sai', 'Divya', 18, (1+5j), 0]\n"
     ]
    }
   ],
   "source": [
    "List1 = [1,2.4,False,\"Sai\",\"Divya\",18,1+5j,0]\n",
    "\n",
    "print(List1)"
   ]
  },
  {
   "cell_type": "code",
   "execution_count": 57,
   "id": "e68711e0-a6c6-4c5a-be43-41a0bd702646",
   "metadata": {},
   "outputs": [
    {
     "data": {
      "text/plain": [
       "True"
      ]
     },
     "execution_count": 57,
     "metadata": {},
     "output_type": "execute_result"
    }
   ],
   "source": [
    "any(List1)"
   ]
  },
  {
   "cell_type": "code",
   "execution_count": null,
   "id": "404ed018-815e-4ce6-9e10-2c8c7345cc2b",
   "metadata": {},
   "outputs": [],
   "source": []
  }
 ],
 "metadata": {
  "kernelspec": {
   "display_name": "Python 3 (ipykernel)",
   "language": "python",
   "name": "python3"
  },
  "language_info": {
   "codemirror_mode": {
    "name": "ipython",
    "version": 3
   },
   "file_extension": ".py",
   "mimetype": "text/x-python",
   "name": "python",
   "nbconvert_exporter": "python",
   "pygments_lexer": "ipython3",
   "version": "3.12.7"
  }
 },
 "nbformat": 4,
 "nbformat_minor": 5
}
